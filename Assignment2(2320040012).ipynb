{
  "nbformat": 4,
  "nbformat_minor": 0,
  "metadata": {
    "colab": {
      "provenance": []
    },
    "kernelspec": {
      "name": "python3",
      "display_name": "Python 3"
    },
    "language_info": {
      "name": "python"
    }
  },
  "cells": [
    {
      "cell_type": "markdown",
      "source": [
        "Uninformed search technique-DFS"
      ],
      "metadata": {
        "id": "3oUzSO4I71ps"
      }
    },
    {
      "cell_type": "code",
      "execution_count": null,
      "metadata": {
        "colab": {
          "base_uri": "https://localhost:8080/"
        },
        "id": "0XXMqVWXVOgv",
        "outputId": "4e401f03-20eb-429e-8de7-22f68a2849d6"
      },
      "outputs": [
        {
          "output_type": "stream",
          "name": "stdout",
          "text": [
            "A C F B E D "
          ]
        }
      ],
      "source": [
        "def dfs_with_heuristic(graph, start, heuristic, visited=None):\n",
        "    if visited is None:\n",
        "        visited = set()\n",
        "    visited.add(start)\n",
        "\n",
        "    print(start, end=\" \")\n",
        "\n",
        "    # Sort neighbors by heuristic values before DFS call\n",
        "    neighbors = sorted(graph[start], key=lambda x: heuristic[x])\n",
        "\n",
        "    for neighbor in neighbors:\n",
        "        if neighbor not in visited:\n",
        "            dfs_with_heuristic(graph, neighbor, heuristic, visited)\n",
        "\n",
        "# Example graph\n",
        "graph = {\n",
        "    'A': ['B', 'C'],\n",
        "    'B': ['D', 'E'],\n",
        "    'C': ['F'],\n",
        "    'D': [],\n",
        "    'E': ['F'],\n",
        "    'F': []\n",
        "}\n",
        "\n",
        "# Example heuristic values\n",
        "heuristic = {\n",
        "    'A': 3,\n",
        "    'B': 2,\n",
        "    'C': 1,\n",
        "    'D': 6,\n",
        "    'E': 5,\n",
        "    'F': 4\n",
        "}\n",
        "\n",
        "# Run DFS with heuristic\n",
        "dfs_with_heuristic(graph, 'A', heuristic)\n"
      ]
    },
    {
      "cell_type": "markdown",
      "source": [
        "BFS-BREADTH FIRST SEARCH"
      ],
      "metadata": {
        "id": "tv6Tid7e78mO"
      }
    },
    {
      "cell_type": "code",
      "source": [
        "from collections import deque\n",
        "\n",
        "def bfs(g, start):\n",
        "    visited = set()\n",
        "    queue = deque([start])\n",
        "    while queue:\n",
        "        node = queue.popleft()\n",
        "        if node not in visited:\n",
        "            print(node)\n",
        "            visited.add(node)\n",
        "            for n in g[node]:\n",
        "                if n not in visited:\n",
        "                    queue.append(n)\n",
        "\n",
        "g = {\n",
        "    '1': ['2', '3'],\n",
        "    '2': ['1', '4', '5'],\n",
        "    '3': ['1', '6'],\n",
        "    '4': ['2'],\n",
        "    '5': ['2', '6'],\n",
        "    '6': ['3', '5']\n",
        "}\n",
        "\n",
        "bfs(g, '1')\n"
      ],
      "metadata": {
        "id": "x_PtuASJ8A7E"
      },
      "execution_count": null,
      "outputs": []
    },
    {
      "cell_type": "markdown",
      "source": [
        "ITERATIVE DEEPENING SEARCH"
      ],
      "metadata": {
        "id": "conMJhTC9Slu"
      }
    },
    {
      "cell_type": "code",
      "source": [
        "def iddfs(g, start, max_depth):\n",
        "    def dfs(node, depth, visited):\n",
        "        if depth == 0:\n",
        "            return\n",
        "        print(node)\n",
        "        visited.add(node)\n",
        "        for neighbor in g[node]:\n",
        "            if neighbor not in visited:\n",
        "                dfs(neighbor, depth - 1, visited)\n",
        "\n",
        "    for depth in range(1, max_depth + 1):\n",
        "        print(f\"Depth {depth}:\")\n",
        "        visited = set()\n",
        "        dfs(start, depth, visited)\n",
        "        print()\n",
        "\n",
        "g = {\n",
        "    'M': ['N', 'O'],\n",
        "    'N': ['M', 'P', 'Q'],\n",
        "    'O': ['M', 'R'],\n",
        "    'P': ['N'],\n",
        "    'Q': ['N', 'S'],\n",
        "    'R': ['O'],\n",
        "    'S': ['Q']\n",
        "}\n",
        "\n",
        "# Start IDDFS from node 'M' with a maximum depth limit of 3\n",
        "iddfs(g, 'M', 3)\n"
      ],
      "metadata": {
        "colab": {
          "base_uri": "https://localhost:8080/"
        },
        "id": "QgxdmT4D9Whu",
        "outputId": "c2832b32-0552-4c42-d8b6-0d9bd71f3d8a"
      },
      "execution_count": 2,
      "outputs": [
        {
          "output_type": "stream",
          "name": "stdout",
          "text": [
            "Depth 1:\n",
            "M\n",
            "\n",
            "Depth 2:\n",
            "M\n",
            "N\n",
            "O\n",
            "\n",
            "Depth 3:\n",
            "M\n",
            "N\n",
            "P\n",
            "Q\n",
            "O\n",
            "R\n",
            "\n"
          ]
        }
      ]
    },
    {
      "cell_type": "markdown",
      "source": [
        "A* SEARCH"
      ],
      "metadata": {
        "id": "4zHA_1KT96qy"
      }
    },
    {
      "cell_type": "code",
      "source": [
        "import heapq\n",
        "\n",
        "def astar(graph, start, goal, h):\n",
        "    queue = [(h[start], start, 0)]\n",
        "    visited = set()\n",
        "    while queue:\n",
        "        f, node, g = heapq.heappop(queue)\n",
        "        if node in visited:\n",
        "            continue\n",
        "        print(node)\n",
        "        visited.add(node)\n",
        "        if node == goal:\n",
        "            break\n",
        "        for neighbor, cost in graph[node]:\n",
        "            if neighbor not in visited:\n",
        "                new_g = g + cost\n",
        "                new_f = new_g + h[neighbor]\n",
        "                heapq.heappush(queue, (new_f, neighbor, new_g))\n",
        "\n",
        "# New graph (neighbor, cost) pairs\n",
        "graph = {\n",
        "    'A': [('B', 2), ('C', 5)],\n",
        "    'B': [('D', 3), ('E', 1)],\n",
        "    'C': [('E', 2)],\n",
        "    'D': [('F', 4)],\n",
        "    'E': [('F', 2)],\n",
        "    'F': []\n",
        "}\n",
        "\n",
        "# New heuristic function\n",
        "h = {\n",
        "    'A': 4,\n",
        "    'B': 6,\n",
        "    'C': 3,\n",
        "    'D': 1,\n",
        "    'E': 2,\n",
        "    'F': 7\n",
        "}\n",
        "\n",
        "astar(graph, 'A', 'F', h)"
      ],
      "metadata": {
        "colab": {
          "base_uri": "https://localhost:8080/"
        },
        "id": "QPC2uLug-D8l",
        "outputId": "12f3f3be-36c2-413a-c439-ff44118d0818"
      },
      "execution_count": 3,
      "outputs": [
        {
          "output_type": "stream",
          "name": "stdout",
          "text": [
            "A\n",
            "B\n",
            "E\n",
            "D\n",
            "C\n",
            "F\n"
          ]
        }
      ]
    },
    {
      "cell_type": "markdown",
      "source": [
        "BEST FIRST SEARCH"
      ],
      "metadata": {
        "id": "dDz3S9cm-QG2"
      }
    },
    {
      "cell_type": "code",
      "source": [
        "import heapq\n",
        "\n",
        "def best_first_search(graph, start, goal, h):\n",
        "    queue = [(h[start], start)]\n",
        "    visited = set()\n",
        "\n",
        "    while queue:\n",
        "        _, node = heapq.heappop(queue)\n",
        "        if node in visited:\n",
        "            continue\n",
        "        print(node)\n",
        "        visited.add(node)\n",
        "        if node == goal:\n",
        "            break\n",
        "        for neighbor, _ in graph[node]:\n",
        "            if neighbor not in visited:\n",
        "                heapq.heappush(queue, (h[neighbor], neighbor))\n",
        "\n",
        "# New graph (neighbor, cost) pairs\n",
        "graph = {\n",
        "    'A': [('B', 3), ('C', 6)],\n",
        "    'B': [('D', 2), ('E', 4)],\n",
        "    'C': [('E', 3)],\n",
        "    'D': [('F', 5)],\n",
        "    'E': [('F', 2)],\n",
        "    'F': []\n",
        "}\n",
        "\n",
        "# New heuristic function\n",
        "h = {\n",
        "    'A': 3,\n",
        "    'B': 6,\n",
        "    'C': 8,\n",
        "    'D': 2,\n",
        "    'E': 7,\n",
        "    'F': 1\n",
        "}\n",
        "\n",
        "best_first_search(graph, 'A', 'F', h)"
      ],
      "metadata": {
        "colab": {
          "base_uri": "https://localhost:8080/"
        },
        "id": "0JVS2cu--YCP",
        "outputId": "d9fd611e-a393-40d2-f2a1-8d96a30a6a0b"
      },
      "execution_count": 4,
      "outputs": [
        {
          "output_type": "stream",
          "name": "stdout",
          "text": [
            "A\n",
            "B\n",
            "D\n",
            "F\n"
          ]
        }
      ]
    },
    {
      "cell_type": "markdown",
      "source": [
        "Adversal search techniques(Alpha-beta,Min-Max)"
      ],
      "metadata": {
        "id": "dMvev_J7-hQg"
      }
    },
    {
      "cell_type": "code",
      "source": [
        "import math\n",
        "\n",
        "def minimax(depth, nodeIndex, maximizingPlayer, values, alpha, beta):\n",
        "    # Terminating condition: leaf node is reached\n",
        "    if depth == 3:\n",
        "        return values[nodeIndex]\n",
        "\n",
        "    if maximizingPlayer:\n",
        "        maxEval = -math.inf\n",
        "\n",
        "        # Recur for the left and right children\n",
        "        for i in range(2):\n",
        "            eval = minimax(depth + 1, nodeIndex * 2 + i, False, values, alpha, beta)\n",
        "            maxEval = max(maxEval, eval)\n",
        "            alpha = max(alpha, eval)\n",
        "\n",
        "            # Alpha Beta Pruning\n",
        "            if beta <= alpha:\n",
        "                break\n",
        "        return maxEval\n",
        "\n",
        "    else:\n",
        "        minEval = math.inf\n",
        "\n",
        "        # Recur for the left and right children\n",
        "        for i in range(2):\n",
        "            eval = minimax(depth + 1, nodeIndex * 2 + i, True, values, alpha, beta)\n",
        "            minEval = min(minEval, eval)\n",
        "            beta = min(beta, eval)\n",
        "\n",
        "            # Alpha Beta Pruning\n",
        "            if beta <= alpha:\n",
        "                break\n",
        "        return minEval\n",
        "\n",
        "# Test values (leaf nodes of the game tree)\n",
        "values = [3, 5, 6, 9, 1, 2, 0, -1]\n",
        "\n",
        "# Initial call\n",
        "print(\"The optimal value is:\", minimax(0, 0, True, values, -math.inf, math.inf))\n"
      ],
      "metadata": {
        "colab": {
          "base_uri": "https://localhost:8080/"
        },
        "id": "ZIhAmZ9W-n2j",
        "outputId": "6dcec76e-c6b3-40a9-a44e-0bebd822e3ed"
      },
      "execution_count": 5,
      "outputs": [
        {
          "output_type": "stream",
          "name": "stdout",
          "text": [
            "The optimal value is: 5\n"
          ]
        }
      ]
    },
    {
      "cell_type": "markdown",
      "source": [
        "MIN-MAX"
      ],
      "metadata": {
        "id": "3JCMyvwe_G2f"
      }
    },
    {
      "cell_type": "code",
      "source": [
        "import math\n",
        "\n",
        "def minimax(depth, nodeIndex, maximizingPlayer, values):\n",
        "    # Base case: leaf node is reached\n",
        "    if depth == 3:\n",
        "        return values[nodeIndex]\n",
        "\n",
        "    if maximizingPlayer:\n",
        "        maxEval = -math.inf\n",
        "\n",
        "        # Recur for the left and right children\n",
        "        for i in range(2):\n",
        "            eval = minimax(depth + 1, nodeIndex * 2 + i, False, values)\n",
        "            maxEval = max(maxEval, eval)\n",
        "        return maxEval\n",
        "\n",
        "    else:\n",
        "        minEval = math.inf\n",
        "\n",
        "        # Recur for the left and right children\n",
        "        for i in range(2):\n",
        "            eval = minimax(depth + 1, nodeIndex * 2 + i, True, values)\n",
        "            minEval = min(minEval, eval)\n",
        "        return minEval\n",
        "\n",
        "# Test values (leaf nodes of the game tree)\n",
        "values = [3, 5, 2, 9, 12, 5, 23, 23]\n",
        "\n",
        "# Initial call\n",
        "print(\"The optimal value is:\", minimax(0, 0, True, values))\n"
      ],
      "metadata": {
        "colab": {
          "base_uri": "https://localhost:8080/"
        },
        "id": "6uICkwDf_VDz",
        "outputId": "2620819b-00d6-449c-b325-2281fe0b94f1"
      },
      "execution_count": 6,
      "outputs": [
        {
          "output_type": "stream",
          "name": "stdout",
          "text": [
            "The optimal value is: 12\n"
          ]
        }
      ]
    }
  ]
}